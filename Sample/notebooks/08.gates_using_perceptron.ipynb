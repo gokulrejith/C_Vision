{
 "cells": [
  {
   "cell_type": "markdown",
   "metadata": {},
   "source": [
    "# Objective\n",
    "- To understand how to train a McCulloch-Pitts Neuron"
   ]
  },
  {
   "cell_type": "markdown",
   "metadata": {},
   "source": [
    "\n",
    "# Declare inputs and initialise weights\n",
    "- Declare teh input and outputs for a OR gate\n",
    "- Initialise all weighs to zero"
   ]
  },
  {
   "cell_type": "code",
   "execution_count": 1,
   "metadata": {},
   "outputs": [],
   "source": [
    "import numpy as np\n",
    "inputs = np.array([[0,0],[0,1],[1,0],[1,1]])\n",
    "outputs = np.array([0,1,1,1])\n",
    "weights = np.array([0,0,0])\n",
    "lr = 0.25"
   ]
  },
  {
   "cell_type": "markdown",
   "metadata": {},
   "source": [
    "# Train the perceptron \n",
    "- Find the neuron output for each input\n",
    "- Find the error (difference between anticipated output and predicted output)\n",
    "- Update weights of the network based on the update rule"
   ]
  },
  {
   "cell_type": "code",
   "execution_count": 2,
   "metadata": {},
   "outputs": [],
   "source": [
    "error_flags = [1] * 5\n",
    "while True:\n",
    "    for gt_ip, exp_op in zip(inputs, outputs):\n",
    "        # Concatenate input with biases\n",
    "        ip_with_bias = np.append(gt_ip, 1.0)\n",
    "        \n",
    "        # Calculated the wieghted sum of inputs\n",
    "        gt_op = np.sum(weights * ip_with_bias)\n",
    "        \n",
    "        # Caculate the neuron output\n",
    "        bin_op = 1 if gt_op >=0.5 else 0\n",
    "        \n",
    "        # Calculate the error\n",
    "        delta = exp_op - bin_op\n",
    "        \n",
    "        # Calculate the update for the weights\n",
    "        update = lr * delta\n",
    "        \n",
    "        # Update the weights\n",
    "        weights = weights + ip_with_bias * update\n",
    "        \n",
    "        error_flags.pop(0)\n",
    "        error_flags.append(1 if delta else 0)\n",
    "    # Exit loop if no error occured\n",
    "    if not sum(error_flags):\n",
    "        break"
   ]
  },
  {
   "cell_type": "markdown",
   "metadata": {},
   "source": [
    "# Print the final weights learned by the network\n",
    "- The last term is the bias and other terms are weights of the network"
   ]
  },
  {
   "cell_type": "code",
   "execution_count": 3,
   "metadata": {},
   "outputs": [
    {
     "data": {
      "text/plain": [
       "array([0.25, 0.25, 0.25])"
      ]
     },
     "execution_count": 3,
     "metadata": {},
     "output_type": "execute_result"
    }
   ],
   "source": [
    "weights"
   ]
  },
  {
   "cell_type": "code",
   "execution_count": null,
   "metadata": {
    "collapsed": true
   },
   "outputs": [],
   "source": []
  }
 ],
 "metadata": {
  "kernelspec": {
   "display_name": "Python 3",
   "language": "python",
   "name": "python3"
  },
  "language_info": {
   "codemirror_mode": {
    "name": "ipython",
    "version": 3
   },
   "file_extension": ".py",
   "mimetype": "text/x-python",
   "name": "python",
   "nbconvert_exporter": "python",
   "pygments_lexer": "ipython3",
   "version": "3.5.2"
  }
 },
 "nbformat": 4,
 "nbformat_minor": 2
}
