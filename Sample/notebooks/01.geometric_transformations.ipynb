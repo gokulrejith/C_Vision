{
 "cells": [
  {
   "cell_type": "markdown",
   "metadata": {
    "colab_type": "text",
    "id": "ieIY879Z1RXr"
   },
   "source": [
    "# Matrix transformations\n",
    "In R3 a geometric transformation can be difined in the following way:\n",
    "$$\n",
    "\\left(\\begin{array}{cc} \n",
    "x'\\\\ y'\\\\ 1\n",
    "\\end{array}\\right) =\n",
    "\\left(\\begin{array}{cc} \n",
    "a11 & a12 & a13\\\\\n",
    "a21 & a22 & a23\\\\\n",
    "a31 & a32 & a33\n",
    "\\end{array}\\right)\n",
    "\\left(\\begin{array}{cc} \n",
    "x \\\\ y \\\\ 1\n",
    "\\end{array}\\right)\n",
    "$$\n",
    "where a11 to a33 define the type of transformations.\n",
    "\n",
    "Applying a geometric transformation to a given matrix in Numpy requires applying the inverse of the transformation to the coordinates of the matrix, create a new matrix of indices from the coordinates and map the matrix to the new indices.\n",
    "\n",
    "In the following example we will use a matrix, represented as an image for visual support. Once we calculate the new indices matrix we will map the original matrix to the new indices, wrapping the out-of-bounds indices to obtain a continuous plane using numpy.take with mode='wrap'"
   ]
  },
  {
   "cell_type": "code",
   "execution_count": 11,
   "metadata": {
    "colab": {},
    "colab_type": "code",
    "id": "uMVURpRD1RXt"
   },
   "outputs": [],
   "source": [
    "import numpy as np\n",
    "import matplotlib.pyplot as plt\n",
    "from matplotlib.path import Path\n",
    "import matplotlib.patches as patches\n",
    "\n",
    "#Some visual settings:\n",
    "%matplotlib inline "
   ]
  },
  {
   "cell_type": "markdown",
   "metadata": {
    "colab_type": "text",
    "id": "OJ9y7-xA1RX1"
   },
   "source": [
    "Let's start with scaling transformation using inhomogeneous coordinates. We define square with equal sides and plot it."
   ]
  },
  {
   "cell_type": "code",
   "execution_count": 25,
   "metadata": {
    "colab": {
     "base_uri": "https://localhost:8080/",
     "height": 357
    },
    "colab_type": "code",
    "executionInfo": {
     "elapsed": 945,
     "status": "ok",
     "timestamp": 1556585087195,
     "user": {
      "displayName": "vichu dinesh",
      "photoUrl": "https://lh4.googleusercontent.com/-YJ3SGM2U3c8/AAAAAAAAAAI/AAAAAAAAB0E/XMTLUkGzCjw/s64/photo.jpg",
      "userId": "13472602982651644269"
     },
     "user_tz": -330
    },
    "id": "3B-vWQQc1RX1",
    "outputId": "4ba979f6-5877-4e2f-a690-23ac60daae70"
   },
   "outputs": [
    {
     "data": {
      "text/plain": [
       "<matplotlib.collections.PolyCollection at 0x204ab87e5c0>"
      ]
     },
     "execution_count": 25,
     "metadata": {},
     "output_type": "execute_result"
    },
    {
     "data": {
      "image/png": "[encoded data removed]",
      "text/plain": [
       "<Figure size 432x288 with 1 Axes>"
      ]
     },
     "metadata": {
      "needs_background": "light"
     },
     "output_type": "display_data"
    }
   ],
   "source": [
    "data_x = np.array([0, 1, 1, 0])\n",
    "data_y = np.array([0, 0, 1, 1])\n",
    "plt.axis((-2,3,-2,3))\n",
    "plt.grid(True)\n",
    "plt.axes().set_aspect('equal', 'datalim')\n",
    "plt.fill_between(data_x, data_y)"
   ]
  },
  {
   "cell_type": "markdown",
   "metadata": {
    "colab_type": "text",
    "id": "szgEj9bs1RX7"
   },
   "source": [
    "Use scaling matrix and transform the coordinates and plot."
   ]
  },
  {
   "cell_type": "code",
   "execution_count": 33,
   "metadata": {
    "colab": {
     "base_uri": "https://localhost:8080/",
     "height": 357
    },
    "colab_type": "code",
    "executionInfo": {
     "elapsed": 942,
     "status": "ok",
     "timestamp": 1556585149660,
     "user": {
      "displayName": "vichu dinesh",
      "photoUrl": "https://lh4.googleusercontent.com/-YJ3SGM2U3c8/AAAAAAAAAAI/AAAAAAAAB0E/XMTLUkGzCjw/s64/photo.jpg",
      "userId": "13472602982651644269"
     },
     "user_tz": -330
    },
    "id": "XRT21Kzb1RX8",
    "outputId": "017bf777-47c2-4faf-a4b0-d65ca19d3014"
   },
   "outputs": [
    {
     "data": {
      "text/plain": [
       "<matplotlib.collections.PolyCollection at 0x204abbdccc0>"
      ]
     },
     "execution_count": 33,
     "metadata": {},
     "output_type": "execute_result"
    },
    {
     "data": {
      "image/png": "[encoded data removed]",
      "text/plain": [
       "<Figure size 432x288 with 1 Axes>"
      ]
     },
     "metadata": {
      "needs_background": "light"
     },
     "output_type": "display_data"
    }
   ],
   "source": [
    "scale_trns = np.array([[1.5, 0], [0, 1.5]])\n",
    "scaled_data = np.dot(scale_trns, np.vstack((data_x, data_y)))\n",
    "scaled_data_x, scaled_data_y = scaled_data[0,:], scaled_data[1,:]\n",
    "plt.axis((-2,3,-2,3))\n",
    "plt.grid(True)\n",
    "plt.axes().set_aspect('equal', 'datalim')\n",
    "plt.fill_betweenx(scaled_data_x, scaled_data_y)"
   ]
  },
  {
   "cell_type": "markdown",
   "metadata": {
    "colab_type": "text",
    "id": "kxsSLBdl1RYA"
   },
   "source": [
    "We will create necessary tool to draw ploygon given 4 points 'plot_ploy' is the utility to draw the polygon given 4 points"
   ]
  },
  {
   "cell_type": "code",
   "execution_count": 34,
   "metadata": {
    "colab": {},
    "colab_type": "code",
    "id": "UIA6aO9Y1RYB"
   },
   "outputs": [],
   "source": [
    "#Create a rectangle for this example:\n",
    "verts = [\n",
    "    (0., 0.), # left, bottom\n",
    "    (0., 1.), # left, top\n",
    "    (1., 1.), # right, top\n",
    "    (1., 0.), # right, bottom\n",
    "    ]"
   ]
  },
  {
   "cell_type": "code",
   "execution_count": 35,
   "metadata": {
    "colab": {},
    "colab_type": "code",
    "id": "gfGPGE_x1RYD"
   },
   "outputs": [],
   "source": [
    "# Plotting Utility\n",
    "codes = [Path.MOVETO,\n",
    "         Path.LINETO,\n",
    "         Path.LINETO,\n",
    "         Path.LINETO,\n",
    "         ]\n",
    "path = Path(verts, codes)\n",
    "def plot_poly(path):\n",
    "    \"\"\"\n",
    "    Utility to plot the polygon\n",
    "    \"\"\"\n",
    "    fig = plt.figure(figsize=(10,10))\n",
    "    ax = fig.add_subplot(111,aspect='equal')\n",
    "    patch = patches.PathPatch(path, facecolor='blue')\n",
    "    ax.add_patch(patch)\n",
    "    ax.set_xlim(-5,5)\n",
    "    ax.set_ylim(-5,5)\n",
    "    ax.grid(True, which='both')\n",
    "    ax.axhline(y=0, color='k')\n",
    "    ax.axvline(x=0, color='k')\n",
    "    plt.show()\n",
    "    return"
   ]
  },
  {
   "cell_type": "code",
   "execution_count": 36,
   "metadata": {
    "colab": {
     "base_uri": "https://localhost:8080/",
     "height": 595
    },
    "colab_type": "code",
    "executionInfo": {
     "elapsed": 1155,
     "status": "ok",
     "timestamp": 1556585252039,
     "user": {
      "displayName": "vichu dinesh",
      "photoUrl": "https://lh4.googleusercontent.com/-YJ3SGM2U3c8/AAAAAAAAAAI/AAAAAAAAB0E/XMTLUkGzCjw/s64/photo.jpg",
      "userId": "13472602982651644269"
     },
     "user_tz": -330
    },
    "id": "VYEPvxJI1RYG",
    "outputId": "0c0b26a1-8cd7-4de5-add2-f7ba3bb8ac7d"
   },
   "outputs": [
    {
     "data": {
      "image/png": "[encoded data removed]",
      "text/plain": [
       "<Figure size 720x720 with 1 Axes>"
      ]
     },
     "metadata": {
      "needs_background": "light"
     },
     "output_type": "display_data"
    }
   ],
   "source": [
    "plot_poly(path)"
   ]
  },
  {
   "cell_type": "markdown",
   "metadata": {
    "colab_type": "text",
    "id": "FeKqTvAe1RYJ"
   },
   "source": [
    "The geometric transformation function be written as follows:"
   ]
  },
  {
   "cell_type": "code",
   "execution_count": 37,
   "metadata": {
    "colab": {},
    "colab_type": "code",
    "id": "Q6IAW3nX1RYK"
   },
   "outputs": [],
   "source": [
    "def geometric_transformation(points, a):\n",
    "    points = np.array(points).T  #Transpose\n",
    "    points = np.insert(points, 2, 1, axis=0)  #Convert to homogeneous coordinates\n",
    "    new_points = np.dot(a,points)  #Transformation\n",
    "    new_points = (new_points[:-1]/new_points[-1])  #Convert back to inhomogeneous coordinates\n",
    "    return new_points.T  #Transpose back"
   ]
  },
  {
   "cell_type": "markdown",
   "metadata": {
    "colab_type": "text",
    "id": "cTZUJup_1RYM"
   },
   "source": [
    "Let's see some transformations we can do.\n",
    "Scaling the plane in the x-axis by a factor of 1.5:\n",
    "$$\n",
    "\\left(\\begin{array}{cc} \n",
    "x'\\\\ y'\\\\ 1\n",
    "\\end{array}\\right) =\n",
    "\\left(\\begin{array}{cc} \n",
    "1.5 & 0 & 0\\\\\n",
    "0 & 1 & 0\\\\\n",
    "0 & 0 & 1\n",
    "\\end{array}\\right)\n",
    "\\left(\\begin{array}{cc} \n",
    "x \\\\ y \\\\ 1\n",
    "\\end{array}\\right)\n",
    "$$"
   ]
  },
  {
   "cell_type": "code",
   "execution_count": 44,
   "metadata": {
    "colab": {
     "base_uri": "https://localhost:8080/",
     "height": 595
    },
    "colab_type": "code",
    "executionInfo": {
     "elapsed": 1063,
     "status": "ok",
     "timestamp": 1556586813566,
     "user": {
      "displayName": "vichu dinesh",
      "photoUrl": "https://lh4.googleusercontent.com/-YJ3SGM2U3c8/AAAAAAAAAAI/AAAAAAAAB0E/XMTLUkGzCjw/s64/photo.jpg",
      "userId": "13472602982651644269"
     },
     "user_tz": -330
    },
    "id": "F0fAsytB1RYN",
    "outputId": "d0162e17-054d-4aed-c13d-0f88e6b0e834",
    "scrolled": false
   },
   "outputs": [
    {
     "data": {
      "image/png": "[encoded data removed]",
      "text/plain": [
       "<Figure size 720x720 with 1 Axes>"
      ]
     },
     "metadata": {
      "needs_background": "light"
     },
     "output_type": "display_data"
    }
   ],
   "source": [
    "a = np.array([[1, 0, 0],\n",
    "              [0, 1, 0],\n",
    "              [0, 0,1]])\n",
    "dst = geometric_transformation(verts, a)\n",
    "path = Path(dst,codes)\n",
    "plot_poly(path)"
   ]
  },
  {
   "cell_type": "markdown",
   "metadata": {
    "colab_type": "text",
    "id": "ghWfw5001RYS"
   },
   "source": [
    "Scaling in the x-y plane by a factor of 1.5:\n",
    "$$\n",
    "\\left(\\begin{array}{cc} \n",
    "x'\\\\ y'\\\\ 1\n",
    "\\end{array}\\right) =\n",
    "\\left(\\begin{array}{cc} \n",
    "1.5 & 0 & 0\\\\\n",
    "0 & 1.5 & 0\\\\\n",
    "0 & 0 & 1\n",
    "\\end{array}\\right)\n",
    "\\left(\\begin{array}{cc} \n",
    "x \\\\ y \\\\ 1\n",
    "\\end{array}\\right)\n",
    "$$"
   ]
  },
  {
   "cell_type": "code",
   "execution_count": 50,
   "metadata": {
    "colab": {
     "base_uri": "https://localhost:8080/",
     "height": 595
    },
    "colab_type": "code",
    "executionInfo": {
     "elapsed": 1053,
     "status": "ok",
     "timestamp": 1556586840284,
     "user": {
      "displayName": "vichu dinesh",
      "photoUrl": "https://lh4.googleusercontent.com/-YJ3SGM2U3c8/AAAAAAAAAAI/AAAAAAAAB0E/XMTLUkGzCjw/s64/photo.jpg",
      "userId": "13472602982651644269"
     },
     "user_tz": -330
    },
    "id": "E2DnWAzQ1RYT",
    "outputId": "dff1e81b-d06b-46e9-c402-8862fa6058ae"
   },
   "outputs": [
    {
     "data": {
      "image/png": "[encoded data removed]",
      "text/plain": [
       "<Figure size 720x720 with 1 Axes>"
      ]
     },
     "metadata": {
      "tags": []
     },
     "output_type": "display_data"
    }
   ],
   "source": [
    "#a = 2\n",
    "dst = geometric_transformation(verts, a)\n",
    "path = Path(dst,codes)\n",
    "plot_poly(path)"
   ]
  },
  {
   "cell_type": "markdown",
   "metadata": {
    "colab_type": "text",
    "id": "cP_ToK9f1RYW"
   },
   "source": [
    "Translation in x-axis by 1:\n",
    "$$\n",
    "\\left(\\begin{array}{cc} \n",
    "x'\\\\ y'\\\\ 1\n",
    "\\end{array}\\right) =\n",
    "\\left(\\begin{array}{cc} \n",
    "1 & 0 & 1\\\\\n",
    "0 & 1 & 0\\\\\n",
    "0 & 0 & 1\n",
    "\\end{array}\\right)\n",
    "\\left(\\begin{array}{cc} \n",
    "x \\\\ y \\\\ 1\n",
    "\\end{array}\\right)\n",
    "$$"
   ]
  },
  {
   "cell_type": "code",
   "execution_count": 0,
   "metadata": {
    "colab": {},
    "colab_type": "code",
    "id": "rJqhEJ5H1RYW",
    "outputId": "c4235c0b-89b5-4967-8508-054e1917dad3"
   },
   "outputs": [
    {
     "data": {
      "image/png": "[encoded data removed]",
      "text/plain": [
       "<matplotlib.figure.Figure at 0x7fd33f9920f0>"
      ]
     },
     "metadata": {
      "tags": []
     },
     "output_type": "display_data"
    }
   ],
   "source": [
    "#a = ?\n",
    "dst = geometric_transformation(verts, a)\n",
    "path = Path(dst,codes)\n",
    "plot_poly(path)"
   ]
  },
  {
   "cell_type": "markdown",
   "metadata": {
    "colab_type": "text",
    "id": "yPYQDbHJ1RYa"
   },
   "source": [
    "Translation in x-y plane by 1:\n",
    "$$\n",
    "\\left(\\begin{array}{cc} \n",
    "x'\\\\ y'\\\\ 1\n",
    "\\end{array}\\right) =\n",
    "\\left(\\begin{array}{cc} \n",
    "1 & 0 & 1\\\\\n",
    "0 & 1 & 1\\\\\n",
    "0 & 0 & 1\n",
    "\\end{array}\\right)\n",
    "\\left(\\begin{array}{cc} \n",
    "x \\\\ y \\\\ 1\n",
    "\\end{array}\\right)\n",
    "$$"
   ]
  },
  {
   "cell_type": "code",
   "execution_count": 0,
   "metadata": {
    "colab": {},
    "colab_type": "code",
    "id": "dHRVl7__1RYb",
    "outputId": "8cb5aff9-6b9a-44bb-f7d7-deda6725ce3f"
   },
   "outputs": [
    {
     "data": {
      "image/png": "[encoded data removed]",
      "text/plain": [
       "<matplotlib.figure.Figure at 0x7fd33f9b6828>"
      ]
     },
     "metadata": {
      "tags": []
     },
     "output_type": "display_data"
    }
   ],
   "source": [
    "#a = ?\n",
    "dst = geometric_transformation(verts, a)\n",
    "path = Path(dst,codes)\n",
    "plot_poly(path)"
   ]
  },
  {
   "cell_type": "markdown",
   "metadata": {
    "colab_type": "text",
    "id": "AG28wcRD1RYf"
   },
   "source": [
    "Rotation by angle:\n",
    "$$\n",
    "\\left(\\begin{array}{cc} \n",
    "x'\\\\ y'\\\\ 1\n",
    "\\end{array}\\right) =\n",
    "\\left(\\begin{array}{cc} \n",
    "cos(pi/4) & -sin(pi/4) & 0\\\\\n",
    "sin(pi/4) & cos(pi/4) & 0\\\\\n",
    "0 & 0 & 1\n",
    "\\end{array}\\right)\n",
    "\\left(\\begin{array}{cc} \n",
    "x \\\\ y \\\\ 1\n",
    "\\end{array}\\right)\n",
    "$$"
   ]
  },
  {
   "cell_type": "code",
   "execution_count": 54,
   "metadata": {
    "colab": {
     "base_uri": "https://localhost:8080/",
     "height": 595
    },
    "colab_type": "code",
    "executionInfo": {
     "elapsed": 8099,
     "status": "ok",
     "timestamp": 1556587320646,
     "user": {
      "displayName": "vichu dinesh",
      "photoUrl": "https://lh4.googleusercontent.com/-YJ3SGM2U3c8/AAAAAAAAAAI/AAAAAAAAB0E/XMTLUkGzCjw/s64/photo.jpg",
      "userId": "13472602982651644269"
     },
     "user_tz": -330
    },
    "id": "gExXABX81RYg",
    "outputId": "196d08b1-75b3-464d-eb74-88697095d874"
   },
   "outputs": [
    {
     "data": {
      "image/png": "[encoded data removed]",
      "text/plain": [
       "<Figure size 720x720 with 1 Axes>"
      ]
     },
     "metadata": {
      "tags": []
     },
     "output_type": "display_data"
    }
   ],
   "source": [
    "a =np.array([[np.cos(np.pi/4),-np.sin(np.pi/4),0],\n",
    "     [np.sin(np.pi/4),np.cos(np.pi/4),0],\n",
    "     [0,0,1]])\n",
    "dst = geometric_transformation(verts, a)\n",
    "path = Path(dst,codes)\n",
    "plot_poly(path)"
   ]
  },
  {
   "cell_type": "markdown",
   "metadata": {
    "colab_type": "text",
    "id": "y0qcrBCn1RYl"
   },
   "source": [
    "Similarity transformation:\n",
    "$$\n",
    "\\left(\\begin{array}{cc} \n",
    "x'\\\\ y'\\\\ 1\n",
    "\\end{array}\\right) =\n",
    "\\left(\\begin{array}{cc} \n",
    "s*cos(pi/4) & -s*sin(pi/4) & 0\\\\\n",
    "s*sin(pi/4) & s*cos(pi/4) & 0\\\\\n",
    "0 & 0 & 1\n",
    "\\end{array}\\right)\n",
    "\\left(\\begin{array}{cc} \n",
    "x \\\\ y \\\\ 1\n",
    "\\end{array}\\right)\n",
    "$$"
   ]
  },
  {
   "cell_type": "code",
   "execution_count": 55,
   "metadata": {
    "colab": {
     "base_uri": "https://localhost:8080/",
     "height": 595
    },
    "colab_type": "code",
    "executionInfo": {
     "elapsed": 1231,
     "status": "ok",
     "timestamp": 1556592645701,
     "user": {
      "displayName": "vichu dinesh",
      "photoUrl": "https://lh4.googleusercontent.com/-YJ3SGM2U3c8/AAAAAAAAAAI/AAAAAAAAB0E/XMTLUkGzCjw/s64/photo.jpg",
      "userId": "13472602982651644269"
     },
     "user_tz": -330
    },
    "id": "oe_eaaFo1RYn",
    "outputId": "c54edf3f-1af8-4a44-d2ac-67d29eafd727"
   },
   "outputs": [
    {
     "data": {
      "image/png": "[encoded data removed]",
      "text/plain": [
       "<Figure size 720x720 with 1 Axes>"
      ]
     },
     "metadata": {
      "tags": []
     },
     "output_type": "display_data"
    }
   ],
   "source": [
    "#a = ? use 'np.cos' 'np.pi'\n",
    "#alpha = np.pi/8\n",
    "#a = np.array([[1.5*np.cos(2*alpha), -1.5*np.sin(2*alpha),0],\n",
    "#              [1.5*np.sin(2*alpha), 1.5*np.cos(2*alpha),0],\n",
    "#              [0, 0, 1]])\n",
    "dst = geometric_transformation(verts, a)\n",
    "path = Path(dst,codes)\n",
    "plot_poly(path)"
   ]
  },
  {
   "cell_type": "markdown",
   "metadata": {
    "colab_type": "text",
    "id": "Hs7o20OY1RYr"
   },
   "source": [
    "Affine transformation:\n",
    "$$\n",
    "\\left(\\begin{array}{cc} \n",
    "x'\\\\ y'\\\\ 1\n",
    "\\end{array}\\right) =\n",
    "\\left(\\begin{array}{cc} \n",
    "a11 & a12 & tx\\\\\n",
    "a21 & a22 & ty\\\\\n",
    "0 & 0 & 1\n",
    "\\end{array}\\right)\n",
    "\\left(\\begin{array}{cc} \n",
    "x \\\\ y \\\\ 1\n",
    "\\end{array}\\right)\n",
    "$$"
   ]
  },
  {
   "cell_type": "code",
   "execution_count": 0,
   "metadata": {
    "colab": {},
    "colab_type": "code",
    "id": "hdHE-J761RYs",
    "outputId": "3132d3a7-5f76-4de7-858d-4a21f5602f3b"
   },
   "outputs": [
    {
     "data": {
      "image/png": "[encoded data removed]",
      "text/plain": [
       "<matplotlib.figure.Figure at 0x7fd33f6506a0>"
      ]
     },
     "metadata": {
      "tags": []
     },
     "output_type": "display_data"
    }
   ],
   "source": [
    "#a = ?\n",
    "dst = geometric_transformation(verts, a)\n",
    "path = Path(dst,codes)\n",
    "plot_poly(path)"
   ]
  },
  {
   "cell_type": "markdown",
   "metadata": {
    "colab_type": "text",
    "id": "tZ3rqjIM1RY0"
   },
   "source": [
    "Projective transformation:\n",
    "$$\n",
    "\\left(\\begin{array}{cc} \n",
    "x'\\\\ y'\\\\ 1\n",
    "\\end{array}\\right) =\n",
    "\\left(\\begin{array}{cc} \n",
    "a11 & a12 & tx\\\\\n",
    "a21 & a22 & ty\\\\\n",
    "v1 & v2 & 1\n",
    "\\end{array}\\right)\n",
    "\\left(\\begin{array}{cc} \n",
    "x \\\\ y \\\\ 1\n",
    "\\end{array}\\right)\n",
    "$$"
   ]
  },
  {
   "cell_type": "code",
   "execution_count": 57,
   "metadata": {
    "colab": {
     "base_uri": "https://localhost:8080/",
     "height": 595
    },
    "colab_type": "code",
    "executionInfo": {
     "elapsed": 937,
     "status": "ok",
     "timestamp": 1556592658812,
     "user": {
      "displayName": "vichu dinesh",
      "photoUrl": "https://lh4.googleusercontent.com/-YJ3SGM2U3c8/AAAAAAAAAAI/AAAAAAAAB0E/XMTLUkGzCjw/s64/photo.jpg",
      "userId": "13472602982651644269"
     },
     "user_tz": -330
    },
    "id": "wuEVvwd81RY1",
    "outputId": "f34f30f8-0c58-43d9-84f4-4522db0ac6c1"
   },
   "outputs": [
    {
     "data": {
      "image/png": "[encoded data removed]",
      "text/plain": [
       "<Figure size 720x720 with 1 Axes>"
      ]
     },
     "metadata": {
      "tags": []
     },
     "output_type": "display_data"
    }
   ],
   "source": [
    "#a = np.array([[4, 2, 0], [0, 4, 0], [0, 1, 1]])\n",
    "dst = geometric_transformation(verts, a)\n",
    "path = Path(dst,codes)\n",
    "plot_poly(path)"
   ]
  },
  {
   "cell_type": "code",
   "execution_count": 56,
   "metadata": {
    "colab": {
     "base_uri": "https://localhost:8080/",
     "height": 34
    },
    "colab_type": "code",
    "executionInfo": {
     "elapsed": 933,
     "status": "ok",
     "timestamp": 1556592654547,
     "user": {
      "displayName": "vichu dinesh",
      "photoUrl": "https://lh4.googleusercontent.com/-YJ3SGM2U3c8/AAAAAAAAAAI/AAAAAAAAB0E/XMTLUkGzCjw/s64/photo.jpg",
      "userId": "13472602982651644269"
     },
     "user_tz": -330
    },
    "id": "vPYM1cvc1RY4",
    "outputId": "185c659a-b007-4e42-edb8-b7eb42561d88"
   },
   "outputs": [
    {
     "name": "stdout",
     "output_type": "stream",
     "text": [
      "The end!\n"
     ]
    }
   ],
   "source": [
    "print('The end!')"
   ]
  },
  {
   "cell_type": "markdown",
   "metadata": {
    "colab_type": "text",
    "id": "cUGf4KAE1iUA"
   },
   "source": []
  }
 ],
 "metadata": {
  "colab": {
   "collapsed_sections": [],
   "name": "01.geometric_transformations.ipynb",
   "provenance": [],
   "version": "0.3.2"
  },
  "kernelspec": {
   "display_name": "Python 3",
   "language": "python",
   "name": "python3"
  },
  "language_info": {
   "codemirror_mode": {
    "name": "ipython",
    "version": 3
   },
   "file_extension": ".py",
   "mimetype": "text/x-python",
   "name": "python",
   "nbconvert_exporter": "python",
   "pygments_lexer": "ipython3",
   "version": "3.7.3"
  }
 },
 "nbformat": 4,
 "nbformat_minor": 1
}
