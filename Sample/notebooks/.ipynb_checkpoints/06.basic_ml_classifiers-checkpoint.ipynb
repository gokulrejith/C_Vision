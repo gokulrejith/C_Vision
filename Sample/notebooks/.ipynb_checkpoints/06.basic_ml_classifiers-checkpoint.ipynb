{
 "cells": [
  {
   "cell_type": "markdown",
   "metadata": {
    "colab_type": "text",
    "collapsed": true,
    "id": "4M3pnl5Wwtj6"
   },
   "source": [
    "# Basic ML Classifiers"
   ]
  },
  {
   "cell_type": "code",
   "execution_count": 1,
   "metadata": {
    "colab": {},
    "colab_type": "code",
    "id": "Eo_ncQQXwtj9"
   },
   "outputs": [],
   "source": [
    "import os\n",
    "from os import path\n",
    "\n",
    "import numpy as np\n",
    "import cv2\n",
    "from skimage import io, color, transform\n",
    "import matplotlib.pyplot as plt"
   ]
  },
  {
   "cell_type": "code",
   "execution_count": 2,
   "metadata": {
    "colab": {},
    "colab_type": "code",
    "id": "f2T9oDPtwtkC"
   },
   "outputs": [],
   "source": [
    "def resize_image(img, size, padding=255):\n",
    "    '''\n",
    "    Resize the given image to specified size\n",
    "    Inputs:\n",
    "        img = Image to be resized (Numpy NDArray)\n",
    "        size = Scalar value. Image will be resized to (size, size)\n",
    "    Returns:\n",
    "        reszd_img = Resized image (Numpy NDArray)\n",
    "    '''\n",
    "    # Append zeros or ones based on the choice of padding\n",
    "    # to maintain the aspect ratio of the image\n",
    "    rows, cols = img.shape[:2]\n",
    "    max_size = max(rows, cols)\n",
    "    canvas = np.ones((max_size, max_size), np.uint8) * padding\n",
    "    \n",
    "    # Place the actual image at the center of the canvas\n",
    "    c_x, c_y = max_size / 2, max_size / 2\n",
    "    x_beg = max(0, c_x - (cols / 2))\n",
    "    y_beg = max(0, c_y - (rows / 2))\n",
    "    x_end, y_end = x_beg + cols, y_beg + rows\n",
    "    canvas[y_beg: y_end, x_beg: x_end] = img\n",
    "        \n",
    "    # Resize the image and write to op_dir_path specified\n",
    "    reszd_img = transform.resize(canvas, (size, size))\n",
    "    reszd_img = np.asarray(reszd_img * 255, np.uint8)\n",
    "    return reszd_img"
   ]
  },
  {
   "cell_type": "code",
   "execution_count": 0,
   "metadata": {
    "colab": {},
    "colab_type": "code",
    "id": "K6T3e5qhwtkH"
   },
   "outputs": [],
   "source": [
    "def extract_features(image):\n",
    "    '''\n",
    "    Extract the features from the Image\n",
    "    '''\n",
    "    gray_img = cv2.cvtColor(image, cv2.COLOR_BGR2GRAY)\n",
    "    gray_img = resize_image(gray_img, 250)\n",
    "    gray_img = cv2.GaussianBlur(gray_img, (5, 5), 0)\n",
    "    \n",
    "    # Binarize the image using Adaptive thresholding\n",
    "    th, bin_img = cv2.threshold(gray_img, 250, 255, cv2.THRESH_BINARY_INV)\n",
    "    \n",
    "    # Close the holes by Morphological operations (Erosion and Dilation)\n",
    "    struct_elem = cv2.getStructuringElement(cv2.MORPH_RECT, (5, 5))\n",
    "    smooth_bin_img = cv2.erode(bin_img, struct_elem, iterations=1)\n",
    "    smooth_bin_img = cv2.dilate(smooth_bin_img, struct_elem, iterations=2)\n",
    "    \n",
    "    # Find all the contours from the binary image\n",
    "    img, contours, heirarchy = cv2.findContours(smooth_bin_img, cv2.RETR_EXTERNAL, cv2.CHAIN_APPROX_SIMPLE)\n",
    "    \n",
    "    # Find the circularity\n",
    "    x, y, w, h = cv2.boundingRect(contours[0])\n",
    "    rect_area = w * h\n",
    "    contour_area = cv2.contourArea(contours[0])\n",
    "    circularity = contour_area / rect_area\n",
    "    \n",
    "    # Find the compactness\n",
    "    mask_img = np.zeros_like(smooth_bin_img)\n",
    "    mask_img = cv2.drawContours(mask_img, [contours[0]], -1, 255, -1)\n",
    "    white_mask_img = cv2.bitwise_and(smooth_bin_img, smooth_bin_img, mask=mask_img)\n",
    "    white_area = cv2.countNonZero(white_mask_img)\n",
    "    compactness = white_area / contour_area\n",
    "    \n",
    "    features = [circularity, compactness]\n",
    "    \n",
    "    return features"
   ]
  },
  {
   "cell_type": "code",
   "execution_count": 0,
   "metadata": {
    "colab": {},
    "colab_type": "code",
    "id": "qsw_2A_9wtk1"
   },
   "outputs": [],
   "source": [
    "def load_data_from_imgs(data_dir, class_label):\n",
    "    '''\n",
    "    Read images from the data directory\n",
    "    Extract features from images and load that into array\n",
    "    '''\n",
    "    all_features = []\n",
    "    for img_name in os.listdir(data_dir):\n",
    "        img_path = path.join(data_dir, img_name)\n",
    "        image = cv2.imread(img_path)\n",
    "        img_features = extract_features(image)\n",
    "        img_features.append(class_label)\n",
    "        all_features.append(img_features)\n",
    "    all_features = np.array(all_features, np.float)\n",
    "    return all_features"
   ]
  },
  {
   "cell_type": "code",
   "execution_count": 0,
   "metadata": {
    "colab": {},
    "colab_type": "code",
    "id": "W6lBG8W7wtlB"
   },
   "outputs": [],
   "source": [
    "def test_model(model, X, y):\n",
    "    '''\n",
    "    Test the trained model with the test data\n",
    "    '''\n",
    "    pred_acc_list = []\n",
    "    for sample, label in zip(X, y):\n",
    "        pred = model.predict(sample.reshape(1, -1))[0]\n",
    "        pred_acc_list.append(int(pred) == int(label))\n",
    "    accuracy = sum(pred_acc_list) / float(len(pred_acc_list)) * 100\n",
    "    return accuracy"
   ]
  },
  {
   "cell_type": "code",
   "execution_count": 0,
   "metadata": {
    "colab": {},
    "colab_type": "code",
    "id": "ldiSOSiLwtle",
    "outputId": "004b0cde-80e9-435b-8c2a-bb536fcef392"
   },
   "outputs": [
    {
     "name": "stderr",
     "output_type": "stream",
     "text": [
      "/home/dhivakar/sys/sw/virt_envs/ahws/local/lib/python2.7/site-packages/skimage/transform/_warps.py:84: UserWarning: The default mode, 'constant', will be changed to 'reflect' in skimage 0.15.\n",
      "  warn(\"The default mode, 'constant', will be changed to 'reflect' in \"\n"
     ]
    }
   ],
   "source": [
    "data_dir = '../data/nuts_n_bolts_master/all_svm/'\n",
    "train_dir = path.join(data_dir, 'train')\n",
    "test_dir = path.join(data_dir, 'test')\n",
    "\n",
    "# Collect the Training and Test data\n",
    "nuts_class, bolts_class = 0, 1\n",
    "train_nuts_data = load_data_from_imgs(path.join(train_dir, 'nuts'), nuts_class)\n",
    "train_bolts_data = load_data_from_imgs(path.join(train_dir, 'bolts'), bolts_class)\n",
    "train_data = np.append(train_nuts_data, train_bolts_data, axis=0)\n",
    "np.random.shuffle(train_data)\n",
    "\n",
    "# Test data\n",
    "test_nuts_data = load_data_from_imgs(path.join(test_dir, 'nuts'), nuts_class)\n",
    "test_bolts_data = load_data_from_imgs(path.join(test_dir, 'bolts'), bolts_class)\n",
    "test_data = np.append(test_nuts_data, test_bolts_data, axis=0)\n",
    "np.random.shuffle(test_data)"
   ]
  },
  {
   "cell_type": "code",
   "execution_count": 0,
   "metadata": {
    "colab": {},
    "colab_type": "code",
    "id": "YZg_OBylwtll"
   },
   "outputs": [],
   "source": [
    "from sklearn import tree\n",
    "X, y = train_data[:, :2], train_data[:, 2]\n",
    "test_X, test_y = test_data[:, :2], test_data[:, 2]\n",
    "dec_tr_clf = tree.DecisionTreeClassifier()\n",
    "dec_tr_clf = dec_tr_clf.fit(X, y)"
   ]
  },
  {
   "cell_type": "code",
   "execution_count": 0,
   "metadata": {
    "colab": {},
    "colab_type": "code",
    "id": "XXmsiJZVwtlo",
    "outputId": "5722bbdb-dcb6-482b-8586-2ce3d4650b1d"
   },
   "outputs": [
    {
     "name": "stdout",
     "output_type": "stream",
     "text": [
      "('Accuracy', 87.2340425531915)\n"
     ]
    }
   ],
   "source": [
    "print('Accuracy', test_model(dec_tr_clf, test_X, test_y))"
   ]
  },
  {
   "cell_type": "code",
   "execution_count": 0,
   "metadata": {
    "colab": {},
    "colab_type": "code",
    "id": "GbbV6X8Mwtlv"
   },
   "outputs": [],
   "source": [
    "import graphviz \n",
    "dot_data = tree.export_graphviz(dec_tr_clf, out_file=None,\n",
    "                                feature_names=['circularity', 'compactness'],\n",
    "                                class_names=['Nut', 'Bolt'],\n",
    "                                filled=True, rounded=True,\n",
    "                                special_characters=True) \n",
    "graph = graphviz.Source(dot_data) \n",
    "#graph.render(\"Nuts and Bolts\")\n",
    "#graph"
   ]
  },
  {
   "cell_type": "markdown",
   "metadata": {
    "colab_type": "text",
    "id": "lC5J2X_Hwtl6"
   },
   "source": [
    "![dec_tr_class.jpg](attachment:dec_tr_class.jpg)"
   ]
  },
  {
   "cell_type": "code",
   "execution_count": 0,
   "metadata": {
    "colab": {},
    "colab_type": "code",
    "id": "aOnoQH5Gwtl7",
    "outputId": "40ff878f-6c1e-4284-d474-e0eecc2372b6"
   },
   "outputs": [
    {
     "data": {
      "image/png": "[encoded data removed]",
      "text/plain": [
       "<matplotlib.figure.Figure at 0x7f029f559390>"
      ]
     },
     "metadata": {
      "tags": []
     },
     "output_type": "display_data"
    }
   ],
   "source": [
    "plot_step = 0.02\n",
    "x_min, x_max = X[:, 0].min() - 1, X[:, 0].max() + 1\n",
    "y_min, y_max = X[:, 1].min() - 1, X[:, 1].max() + 1\n",
    "xx, yy = np.meshgrid(np.arange(x_min, x_max, plot_step),\n",
    "                     np.arange(y_min, y_max, plot_step))\n",
    "\n",
    "Z = dec_tr_clf.predict(np.c_[xx.ravel(), yy.ravel()])\n",
    "Z = Z.reshape(xx.shape)\n",
    "cs = plt.contourf(xx, yy, Z, cmap=plt.cm.RdYlBu)\n",
    "\n",
    "plt.xlabel('Circularity')\n",
    "plt.ylabel('Compactness')\n",
    "target_names = ['Nut', 'Bolt']\n",
    "\n",
    "# Plot the training points\n",
    "for i, color in zip(range(2), 'rb'):\n",
    "    idx = np.where(y == i)\n",
    "    plt.scatter(X[idx, 0], X[idx, 1], c=color, label=target_names[i],\n",
    "                cmap=plt.cm.RdYlBu, edgecolor='black', s=20)\n",
    "plt.xlim([0.2, 1.2])\n",
    "plt.ylim([0.2, 1.5])\n",
    "plt.show()"
   ]
  },
  {
   "cell_type": "markdown",
   "metadata": {
    "colab_type": "text",
    "id": "5SHowBqzwtmE"
   },
   "source": [
    "## Logistic Regression"
   ]
  },
  {
   "cell_type": "code",
   "execution_count": 0,
   "metadata": {
    "colab": {},
    "colab_type": "code",
    "id": "1DF22GHUwtmE",
    "outputId": "52956423-b895-4bd0-edc0-03044358fa75"
   },
   "outputs": [
    {
     "data": {
      "text/plain": [
       "LogisticRegression(C=1.0, class_weight=None, dual=False, fit_intercept=True,\n",
       "          intercept_scaling=1, max_iter=100, multi_class='ovr', n_jobs=1,\n",
       "          penalty='l2', random_state=None, solver='liblinear', tol=0.0001,\n",
       "          verbose=0, warm_start=False)"
      ]
     },
     "execution_count": 11,
     "metadata": {
      "tags": []
     },
     "output_type": "execute_result"
    }
   ],
   "source": [
    "from sklearn import linear_model\n",
    "log_reg_clf = linear_model.LogisticRegression()\n",
    "\n",
    "# we create an instance of Neighbours Classifier and fit the data.\n",
    "log_reg_clf.fit(X, y)"
   ]
  },
  {
   "cell_type": "code",
   "execution_count": 0,
   "metadata": {
    "colab": {},
    "colab_type": "code",
    "id": "S08o1n_twtmL",
    "outputId": "8b2ae095-8af1-45bd-b673-e7cf677ad2fa"
   },
   "outputs": [
    {
     "name": "stdout",
     "output_type": "stream",
     "text": [
      "('Logistic Regression Accuracy = ', 87.2340425531915)\n"
     ]
    }
   ],
   "source": [
    "print('Logistic Regression Accuracy = ', test_model(log_reg_clf, test_X, test_y))"
   ]
  },
  {
   "cell_type": "markdown",
   "metadata": {
    "colab_type": "text",
    "id": "crBgHfcqwtmV"
   },
   "source": [
    "### Logistic Regression Visualization"
   ]
  },
  {
   "cell_type": "code",
   "execution_count": 0,
   "metadata": {
    "colab": {},
    "colab_type": "code",
    "id": "yEQgecEEwtmW",
    "outputId": "4ec1b325-f6a6-48ce-ff41-43a5e1865f63"
   },
   "outputs": [
    {
     "data": {
      "image/png": "[encoded data removed]",
      "text/plain": [
       "<matplotlib.figure.Figure at 0x7f028d984590>"
      ]
     },
     "metadata": {
      "tags": []
     },
     "output_type": "display_data"
    }
   ],
   "source": [
    "h = .02  # step size in the mesh\n",
    "# Plot the decision boundary. For that, we will assign a color to each\n",
    "# point in the mesh [x_min, x_max]x[y_min, y_max].\n",
    "x_min, x_max = X[:, 0].min() - .5, X[:, 0].max() + .5\n",
    "y_min, y_max = X[:, 1].min() - .5, X[:, 1].max() + .5\n",
    "xx, yy = np.meshgrid(np.arange(x_min, x_max, h), np.arange(y_min, y_max, h))\n",
    "Z = log_reg_clf.predict(np.c_[xx.ravel(), yy.ravel()])\n",
    "\n",
    "# Put the result into a color plot\n",
    "Z = Z.reshape(xx.shape)\n",
    "plt.figure(1, figsize=(4, 3))\n",
    "plt.pcolormesh(xx, yy, Z, cmap=plt.cm.RdYlBu)\n",
    "\n",
    "# Plot also the training points\n",
    "y_clrs = ['r' if elem==0 else 'b' for elem in y]\n",
    "plt.scatter(X[:, 0], X[:, 1], c=y_clrs, edgecolors='k', cmap=plt.cm.Paired)\n",
    "plt.xlabel('Circularity')\n",
    "plt.ylabel('Compactness')\n",
    "\n",
    "plt.xlim([0.1, 1.2])\n",
    "plt.ylim([0.2, 1.5])\n",
    "\n",
    "plt.show()"
   ]
  },
  {
   "cell_type": "code",
   "execution_count": 0,
   "metadata": {
    "colab": {},
    "colab_type": "code",
    "id": "m3xs9uHFwtmb"
   },
   "outputs": [],
   "source": []
  }
 ],
 "metadata": {
  "colab": {
   "name": "06.basic_ml_classifiers.ipynb",
   "provenance": [],
   "version": "0.3.2"
  },
  "kernelspec": {
   "display_name": "Python 3",
   "language": "python",
   "name": "python3"
  },
  "language_info": {
   "codemirror_mode": {
    "name": "ipython",
    "version": 3
   },
   "file_extension": ".py",
   "mimetype": "text/x-python",
   "name": "python",
   "nbconvert_exporter": "python",
   "pygments_lexer": "ipython3",
   "version": "3.7.6"
  }
 },
 "nbformat": 4,
 "nbformat_minor": 1
}
