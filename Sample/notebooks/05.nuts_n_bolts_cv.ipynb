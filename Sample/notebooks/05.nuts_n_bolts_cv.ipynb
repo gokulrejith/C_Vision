{
 "cells": [
  {
   "cell_type": "markdown",
   "metadata": {
    "colab_type": "text",
    "id": "NgjaVC5_wsHq"
   },
   "source": [
    "# Classification using Basic Image Processing"
   ]
  },
  {
   "cell_type": "markdown",
   "metadata": {
    "colab_type": "text",
    "id": "m4LXO8cCwsHr"
   },
   "source": [
    "We will perform the classification of Nuts and Bolts using basic image processing and an \"IF\"\n",
    "This is to get you familiar with the Basic image processing functions using Scikit-Image\n",
    "Before you work on the data / image, you may have to pre-process them to get uniformity and better performance\n",
    "\n",
    "These are stages in this Classification process\n",
    "* Pre-processing & Binarizing\n",
    "* Contour Detection\n",
    "* Feature extraction\n",
    "* Thresholding (classifying)"
   ]
  },
  {
   "cell_type": "markdown",
   "metadata": {
    "colab_type": "text",
    "id": "h6iBqWvEwsHs"
   },
   "source": [
    "### Pre-processing\n",
    "Preprocessing includes Converting the colorspace to Gray and Smoothing (applying filter) the image, etc"
   ]
  },
  {
   "cell_type": "code",
   "execution_count": 2,
   "metadata": {
    "colab": {
     "base_uri": "https://localhost:8080/",
     "height": 34
    },
    "colab_type": "code",
    "executionInfo": {
     "elapsed": 24007,
     "status": "ok",
     "timestamp": 1556627508723,
     "user": {
      "displayName": "Gokul Rejithkumar",
      "photoUrl": "https://lh3.googleusercontent.com/-eXYsE0NA9ek/AAAAAAAAAAI/AAAAAAAAB24/i2xhwZFIq3k/s64/photo.jpg",
      "userId": "05023846991577275516"
     },
     "user_tz": -330
    },
    "id": "bEQXhsJGwsHt",
    "outputId": "4bac246a-a9ad-4922-910b-e175260938c7"
   },
   "outputs": [
    {
     "name": "stdout",
     "output_type": "stream",
     "text": [
      "Mounted at /content/gdrive\n"
     ]
    }
   ],
   "source": [
    "# Import necessary modules\n",
    "import cv2\n",
    "import numpy as np\n",
    "import matplotlib.pyplot as plt\n",
    "from google.colab import drive\n",
    "drive.mount('/content/gdrive', force_remount = True)"
   ]
  },
  {
   "cell_type": "code",
   "execution_count": 3,
   "metadata": {
    "colab": {
     "base_uri": "https://localhost:8080/",
     "height": 197
    },
    "colab_type": "code",
    "executionInfo": {
     "elapsed": 21148,
     "status": "error",
     "timestamp": 1556627508725,
     "user": {
      "displayName": "Gokul Rejithkumar",
      "photoUrl": "https://lh3.googleusercontent.com/-eXYsE0NA9ek/AAAAAAAAAAI/AAAAAAAAB24/i2xhwZFIq3k/s64/photo.jpg",
      "userId": "05023846991577275516"
     },
     "user_tz": -330
    },
    "id": "EwPP1X1RwsHw",
    "outputId": "e155e624-b900-46e3-b31c-fda6cbe4c6a1"
   },
   "outputs": [
    {
     "ename": "error",
     "evalue": "ignored",
     "output_type": "error",
     "traceback": [
      "\u001b[0;31m\u001b[0m",
      "\u001b[0;31merror\u001b[0mTraceback (most recent call last)",
      "\u001b[0;32m<ipython-input-3-3551745e74de>\u001b[0m in \u001b[0;36m<module>\u001b[0;34m()\u001b[0m\n\u001b[1;32m      1\u001b[0m \u001b[0mimage\u001b[0m \u001b[0;34m=\u001b[0m \u001b[0mcv2\u001b[0m\u001b[0;34m.\u001b[0m\u001b[0mimread\u001b[0m\u001b[0;34m(\u001b[0m\u001b[0;34m'/content/gdrive/My Drive/#3STUDY/vis_drd19new/data/nut_bolts_v1/bolt.jpg'\u001b[0m\u001b[0;34m)\u001b[0m\u001b[0;34m\u001b[0m\u001b[0m\n\u001b[0;32m----> 2\u001b[0;31m \u001b[0mgray_img\u001b[0m \u001b[0;34m=\u001b[0m \u001b[0mcv2\u001b[0m\u001b[0;34m.\u001b[0m\u001b[0mcvtColor\u001b[0m\u001b[0;34m(\u001b[0m\u001b[0mimage\u001b[0m\u001b[0;34m,\u001b[0m \u001b[0mcv2\u001b[0m\u001b[0;34m.\u001b[0m\u001b[0mCOLOR_BGR2GRAY\u001b[0m\u001b[0;34m)\u001b[0m\u001b[0;34m\u001b[0m\u001b[0m\n\u001b[0m\u001b[1;32m      3\u001b[0m \u001b[0mgray_img\u001b[0m \u001b[0;34m=\u001b[0m \u001b[0mcv2\u001b[0m\u001b[0;34m.\u001b[0m\u001b[0mGaussianBlur\u001b[0m\u001b[0;34m(\u001b[0m\u001b[0mgray_img\u001b[0m\u001b[0;34m,\u001b[0m \u001b[0;34m(\u001b[0m\u001b[0;36m5\u001b[0m\u001b[0;34m,\u001b[0m \u001b[0;36m5\u001b[0m\u001b[0;34m)\u001b[0m\u001b[0;34m,\u001b[0m \u001b[0;36m0\u001b[0m\u001b[0;34m)\u001b[0m\u001b[0;34m\u001b[0m\u001b[0m\n",
      "\u001b[0;31merror\u001b[0m: OpenCV(3.4.3) /io/opencv/modules/imgproc/src/color.cpp:181: error: (-215:Assertion failed) !_src.empty() in function 'cvtColor'\n"
     ]
    }
   ],
   "source": [
    "# Read the image and Convert it to Grayscale\n",
    "image = cv2.imread('/content/gdrive/My Drive/#3STUDY/vis_drd19new/data/nut_bolts_v1/bolt.jpg')\n",
    "gray_img = cv2.cvtColor(image, cv2.COLOR_BGR2GRAY)\n",
    "gray_img = cv2.GaussianBlur(gray_img, (5, 5), 0)"
   ]
  },
  {
   "cell_type": "code",
   "execution_count": 0,
   "metadata": {
    "colab": {
     "base_uri": "https://localhost:8080/",
     "height": 180
    },
    "colab_type": "code",
    "executionInfo": {
     "elapsed": 986,
     "status": "error",
     "timestamp": 1556626915087,
     "user": {
      "displayName": "Gokul Rejithkumar",
      "photoUrl": "https://lh3.googleusercontent.com/-eXYsE0NA9ek/AAAAAAAAAAI/AAAAAAAAB24/i2xhwZFIq3k/s64/photo.jpg",
      "userId": "05023846991577275516"
     },
     "user_tz": -330
    },
    "id": "THKErLWHwsHz",
    "outputId": "e0cc4518-e32f-474d-fdd5-21144602edf6"
   },
   "outputs": [
    {
     "ename": "NameError",
     "evalue": "ignored",
     "output_type": "error",
     "traceback": [
      "\u001b[0;31m\u001b[0m",
      "\u001b[0;31mNameError\u001b[0mTraceback (most recent call last)",
      "\u001b[0;32m<ipython-input-12-d1ce54e3a439>\u001b[0m in \u001b[0;36m<module>\u001b[0;34m()\u001b[0m\n\u001b[0;32m----> 1\u001b[0;31m \u001b[0mplt\u001b[0m\u001b[0;34m.\u001b[0m\u001b[0mimshow\u001b[0m\u001b[0;34m(\u001b[0m\u001b[0mgray_img\u001b[0m\u001b[0;34m,\u001b[0m \u001b[0;34m'gray'\u001b[0m\u001b[0;34m)\u001b[0m\u001b[0;34m\u001b[0m\u001b[0m\n\u001b[0m\u001b[1;32m      2\u001b[0m \u001b[0mplt\u001b[0m\u001b[0;34m.\u001b[0m\u001b[0mshow\u001b[0m\u001b[0;34m(\u001b[0m\u001b[0;34m)\u001b[0m\u001b[0;34m\u001b[0m\u001b[0m\n",
      "\u001b[0;31mNameError\u001b[0m: name 'gray_img' is not defined"
     ]
    }
   ],
   "source": [
    "plt.imshow(gray_img, 'gray')\n",
    "plt.show()"
   ]
  },
  {
   "cell_type": "markdown",
   "metadata": {
    "colab_type": "text",
    "id": "YaUS5D2JwsH2"
   },
   "source": [
    "### Binarizing and Cleaning\n",
    "When you need to work with only two levels of pixel values, you can binarize the image which gives an image with only two pixel values(0, 255)\n",
    "\n",
    "If you have a lot of discontinuities in the image, you can smooth them out with the morphological operations like **Erosion** and **Dilation**"
   ]
  },
  {
   "cell_type": "code",
   "execution_count": 0,
   "metadata": {
    "colab": {},
    "colab_type": "code",
    "id": "_xx1TikiwsH3"
   },
   "outputs": [],
   "source": [
    "# Binarize the image using Adaptive thresholding\n",
    "th, bin_img = cv2.threshold(gray_img, 250, 255, cv2.THRESH_BINARY_INV)"
   ]
  },
  {
   "cell_type": "code",
   "execution_count": 0,
   "metadata": {
    "colab": {},
    "colab_type": "code",
    "id": "xfSJNrmnwsH7"
   },
   "outputs": [],
   "source": [
    "plt.imshow(bin_img, 'gray')\n",
    "plt.show()"
   ]
  },
  {
   "cell_type": "code",
   "execution_count": 0,
   "metadata": {
    "colab": {},
    "colab_type": "code",
    "id": "oz8Im-qOwsIA"
   },
   "outputs": [],
   "source": [
    "# Close the holes by Morphological operations (Erosion and Dilation)\n",
    "struct_elem = cv2.getStructuringElement(cv2.MORPH_RECT, (5, 5))\n",
    "smooth_bin_img = cv2.erode(bin_img, struct_elem, iterations=1)\n",
    "smooth_bin_img = cv2.dilate(smooth_bin_img, struct_elem, iterations=2)"
   ]
  },
  {
   "cell_type": "code",
   "execution_count": 0,
   "metadata": {
    "colab": {},
    "colab_type": "code",
    "id": "3RlsRZ9xwsID"
   },
   "outputs": [],
   "source": [
    "plt.imshow(smooth_bin_img, 'gray')\n",
    "plt.show()"
   ]
  },
  {
   "cell_type": "markdown",
   "metadata": {
    "colab_type": "text",
    "id": "uIO6u9OQwsIF"
   },
   "source": [
    "### Contour Detection\n",
    "Contours are the closed regions in an image. Contours have many important properties which can be used in different classification problems"
   ]
  },
  {
   "cell_type": "code",
   "execution_count": 0,
   "metadata": {
    "colab": {},
    "colab_type": "code",
    "id": "wrOtZK2nwsIG"
   },
   "outputs": [],
   "source": [
    "# Find all the contours from the binary image\n",
    "img, contours, heirarchy = cv2.findContours(smooth_bin_img, cv2.RETR_EXTERNAL, cv2.CHAIN_APPROX_SIMPLE)"
   ]
  },
  {
   "cell_type": "code",
   "execution_count": 0,
   "metadata": {
    "colab": {},
    "colab_type": "code",
    "id": "HKa86uG7wsIJ"
   },
   "outputs": [],
   "source": [
    "# Display the image and plot all contours found\n",
    "cnt_img = cv2.drawContours(image, contours, -1, (0, 255, 0), 3)\n",
    "plt.imshow(cnt_img)\n",
    "plt.show()"
   ]
  },
  {
   "cell_type": "markdown",
   "metadata": {
    "colab_type": "text",
    "id": "htsCjuzOwsIL"
   },
   "source": [
    "### Feature extraction\n",
    "\n",
    "Find the below two features\n",
    "1. Compactness\n",
    "2. Circularity\n",
    "\n",
    "#### Compactness\n",
    "It is defined by White area / Contour area"
   ]
  },
  {
   "cell_type": "code",
   "execution_count": 0,
   "metadata": {
    "colab": {},
    "colab_type": "code",
    "id": "eclrVW45wsIN"
   },
   "outputs": [],
   "source": [
    "# Find the compactness\n",
    "contour_area = cv2.contourArea(contours[0])\n",
    "white_area = cv2.countNonZero(smooth_bin_img)\n",
    "compactness = white_area / contour_area * 100\n",
    "print(compactness)"
   ]
  },
  {
   "cell_type": "markdown",
   "metadata": {
    "colab_type": "text",
    "id": "x1aHXujPwsIQ"
   },
   "source": [
    "#### Circularity\n",
    "It is defined by Contour area / Rectangular area"
   ]
  },
  {
   "cell_type": "code",
   "execution_count": 0,
   "metadata": {
    "colab": {},
    "colab_type": "code",
    "id": "Fhig-vaEwsIQ"
   },
   "outputs": [],
   "source": [
    "# Find the circularity\n",
    "x, y, w, h = cv2.boundingRect(contours[0])\n",
    "rect_area = w * h\n",
    "circularity = contour_area / rect_area * 100\n",
    "print(circularity)"
   ]
  },
  {
   "cell_type": "markdown",
   "metadata": {
    "colab_type": "text",
    "id": "RJA-341TwsIT"
   },
   "source": [
    "### Thresholding (Classifying)\n",
    "From an the data distribution of Nuts and Bolts shown in the presentation, we heuristically choose the below thresholds to classify a new image\n",
    "\n",
    "Circularity = 55  \n",
    "Compactness = 90"
   ]
  },
  {
   "cell_type": "code",
   "execution_count": 0,
   "metadata": {
    "colab": {},
    "colab_type": "code",
    "id": "zcwpFcNdwsIT"
   },
   "outputs": [],
   "source": [
    "# Use \"if\" to classify it into a Nut or a Bolt\n",
    "if circularity > 55 and compactness < 90:\n",
    "    print('Nut')\n",
    "else:\n",
    "    print('Bolt')"
   ]
  },
  {
   "cell_type": "code",
   "execution_count": 0,
   "metadata": {
    "colab": {},
    "colab_type": "code",
    "id": "yDyj7obZwsIX"
   },
   "outputs": [],
   "source": [
    "plt.scatter(circularity, compactness, color='black', s=60)\n",
    "plt.plot([55, 55], [74, 100], color='green')\n",
    "plt.plot([0, 100], [90, 90], color='green')\n",
    "plt.show()"
   ]
  }
 ],
 "metadata": {
  "colab": {
   "name": "05.nuts_n_bolts_cv.ipynb",
   "provenance": [],
   "version": "0.3.2"
  },
  "kernelspec": {
   "display_name": "Python 3",
   "language": "python",
   "name": "python3"
  },
  "language_info": {
   "codemirror_mode": {
    "name": "ipython",
    "version": 3
   },
   "file_extension": ".py",
   "mimetype": "text/x-python",
   "name": "python",
   "nbconvert_exporter": "python",
   "pygments_lexer": "ipython3",
   "version": "3.7.3"
  }
 },
 "nbformat": 4,
 "nbformat_minor": 1
}
