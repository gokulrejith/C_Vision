{
 "cells": [
  {
   "cell_type": "code",
   "execution_count": 1,
   "metadata": {
    "collapsed": true
   },
   "outputs": [],
   "source": [
    "import os\n",
    "\n",
    "from skimage import io, transform, color\n",
    "import numpy as np"
   ]
  },
  {
   "cell_type": "code",
   "execution_count": 2,
   "metadata": {
    "collapsed": true
   },
   "outputs": [],
   "source": [
    "def resize_imgs(dir_path, op_dir_path, size, padding=255):\n",
    "    '''\n",
    "    Resize all images present in the given directory\n",
    "    '''\n",
    "    files = os.listdir(dir_path)\n",
    "    for file_name in files:\n",
    "        file_path = os.path.join(dir_path, file_name)\n",
    "        if os.path.splitext(file_name)[1] not in ['.jpg', '.JPG', '.png', '.PNG']:\n",
    "            continue\n",
    "        \n",
    "        # Read the image in Gray scale\n",
    "        img = io.imread(file_path)\n",
    "        img = color.rgb2gray(img)\n",
    "        img = np.asarray(img * 255, np.uint8)\n",
    "        reszd_img = resize_image(img, size)\n",
    "        \n",
    "        op_file_path = os.path.join(op_dir_path, 'reszd_' + file_name)\n",
    "        io.imsave(op_file_path, reszd_img)\n",
    "    return True"
   ]
  },
  {
   "cell_type": "code",
   "execution_count": 3,
   "metadata": {
    "collapsed": true
   },
   "outputs": [],
   "source": [
    "def resize_image(img, size, padding=255):\n",
    "    '''\n",
    "    Resize the given image to specified size\n",
    "    '''\n",
    "    # Append zeros or ones based on the choice of padding\n",
    "    # to maintain the aspect ratio of the image\n",
    "    rows, cols = img.shape[:2]\n",
    "    max_size = max(rows, cols)\n",
    "    canvas = np.ones((max_size, max_size), np.uint8) * padding\n",
    "    \n",
    "    # Place the actual image at the center of the canvas\n",
    "    c_x, c_y = max_size / 2, max_size / 2\n",
    "    x_beg = max(0, c_x - (cols / 2))\n",
    "    y_beg = max(0, c_y - (rows / 2))\n",
    "    x_end, y_end = x_beg + cols, y_beg + rows\n",
    "    canvas[y_beg: y_end, x_beg: x_end] = img\n",
    "        \n",
    "    # Resize the image and write to op_dir_path specified\n",
    "    reszd_img = transform.resize(canvas, (size, size))\n",
    "    reszd_img = np.asarray(reszd_img * 255, np.uint8)\n",
    "    return reszd_img"
   ]
  },
  {
   "cell_type": "code",
   "execution_count": 14,
   "metadata": {},
   "outputs": [
    {
     "data": {
      "text/plain": [
       "True"
      ]
     },
     "execution_count": 14,
     "metadata": {},
     "output_type": "execute_result"
    }
   ],
   "source": [
    "resize_imgs('../data/nuts_n_bolts_master/all/train/nuts/', '../data/nuts_n_bolts_master/all/50x50/train/nuts/', 50)"
   ]
  },
  {
   "cell_type": "code",
   "execution_count": 4,
   "metadata": {
    "collapsed": true
   },
   "outputs": [],
   "source": [
    "def imgs_to_csv(img_dirs, csv_path, labels):\n",
    "    '''\n",
    "    Writes image data into a CSV file for training\n",
    "    Input:\n",
    "        img_dirs = List of image directories for different class images\n",
    "        csv_path = Ouput CSV file path\n",
    "        labels = List of lables corresponding to the img_dirs\n",
    "    '''\n",
    "    X_list, y_list = [], []\n",
    "    for img_dir, label in zip(img_dirs, labels):\n",
    "        files = os.listdir(img_dir)\n",
    "        for file_name in files:\n",
    "            if os.path.splitext(file_name)[1] not in ['.jpg', '.JPG', '.png', '.PNG']:\n",
    "                continue\n",
    "            file_path = os.path.join(img_dir, file_name)\n",
    "            img = io.imread(file_path, as_gray=True)\n",
    "            X_list.append(img.flatten())\n",
    "            y_list.append([label])\n",
    "    X = np.array(X_list, np.float) / 255\n",
    "    y = np.array(y_list, np.float)\n",
    "    train_data = np.append(X, y, axis=1)\n",
    "    np.savetxt(csv_path, train_data, delimiter=',', fmt='%f')"
   ]
  },
  {
   "cell_type": "code",
   "execution_count": 7,
   "metadata": {
    "collapsed": true
   },
   "outputs": [],
   "source": [
    "img_dirs = ['../data/nuts_n_bolts_master/all_svm/50x50/train/nuts/',\n",
    "            '../data/nuts_n_bolts_master/all_svm/50x50/train/bolts/']\n",
    "labels = [0, 1]\n",
    "csv_path = '../data/nuts_n_bolts_master/all_svm/50x50/nuts_and_bolts_train.csv'"
   ]
  },
  {
   "cell_type": "code",
   "execution_count": 8,
   "metadata": {
    "collapsed": true
   },
   "outputs": [],
   "source": [
    "imgs_to_csv(img_dirs, csv_path, labels)"
   ]
  },
  {
   "cell_type": "code",
   "execution_count": null,
   "metadata": {
    "collapsed": true
   },
   "outputs": [],
   "source": []
  }
 ],
 "metadata": {
  "kernelspec": {
   "display_name": "Python 2",
   "language": "python",
   "name": "python2"
  },
  "language_info": {
   "codemirror_mode": {
    "name": "ipython",
    "version": 2
   },
   "file_extension": ".py",
   "mimetype": "text/x-python",
   "name": "python",
   "nbconvert_exporter": "python",
   "pygments_lexer": "ipython2",
   "version": "2.7.6"
  }
 },
 "nbformat": 4,
 "nbformat_minor": 2
}
